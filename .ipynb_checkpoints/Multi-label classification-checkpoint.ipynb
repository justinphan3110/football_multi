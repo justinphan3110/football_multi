{
 "cells": [
  {
   "cell_type": "code",
   "execution_count": 12,
   "metadata": {},
   "outputs": [],
   "source": [
    "from sklearn.feature_extraction.text import TfidfVectorizer, CountVectorizer, TfidfTransformer\n",
    "from sklearn.linear_model import LogisticRegression\n",
    "from sklearn.pipeline import Pipeline\n",
    "from sklearn.metrics import accuracy_score\n",
    "from sklearn.multiclass import OneVsRestClassifier\n",
    "from sklearn.base import TransformerMixin, BaseEstimator\n",
    "from sklearn.preprocessing import MultiLabelBinarizer\n",
    "from sklearn.svm import SVC\n",
    "import joblib\n",
    "import pandas as pd\n",
    "import numpy as np\n",
    "from pyvi import ViPosTagger, ViTokenizer\n",
    "import warnings\n",
    "warnings.filterwarnings(\"ignore\")"
   ]
  },
  {
   "cell_type": "markdown",
   "metadata": {},
   "source": [
    "### Preprocessing text"
   ]
  },
  {
   "cell_type": "code",
   "execution_count": 2,
   "metadata": {},
   "outputs": [],
   "source": [
    "def import_dataset(filename):\n",
    "    X = []\n",
    "    y = []\n",
    "    categories = set()\n",
    "    dataset = []\n",
    "    with open(filename, \"r\", encoding='utf-8') as file:\n",
    "        for line in file:\n",
    "            if line.find(\"--- # ---\") != -1:\n",
    "                data, label = line.split(\"--- # ---\")\n",
    "                new_data = \"\"\n",
    "                for word in data.split():\n",
    "                    if word.find(\"sys.\") == -1 and word.find(\"dev.\") == -1:\n",
    "                        word = word.replace('_', ' ')\n",
    "                    new_data += word + ' '\n",
    "                dataset.append([new_data.strip(), label.strip()])\n",
    "                X.append(new_data.strip())\n",
    "                y.append(set(label.strip().split('|')))\n",
    "                for tmp in label.strip().split('|'):\n",
    "                    categories.add(tmp)\n",
    "    \n",
    "    return X, y, categories"
   ]
  },
  {
   "cell_type": "code",
   "execution_count": 3,
   "metadata": {},
   "outputs": [],
   "source": [
    "X_train, y_train, categories = import_dataset('data/intentCompactTrainVi.txt')\n",
    "X_test, y_test, _ = import_dataset('data/intentCompactTestVi.txt')"
   ]
  },
  {
   "cell_type": "markdown",
   "metadata": {},
   "source": [
    "### Init pipeline"
   ]
  },
  {
   "cell_type": "code",
   "execution_count": 4,
   "metadata": {},
   "outputs": [],
   "source": [
    "class FeatureTransformer(BaseEstimator, TransformerMixin):\n",
    "    def __init__(self):\n",
    "        self.stopwords = set()\n",
    "        with open(\"data/vietnamese-stopwords.txt\", 'r', encoding='utf-8') as file:\n",
    "            for line in file:\n",
    "                self.stopwords.add(line.strip())\n",
    "        \n",
    "    def fit(self, *_):\n",
    "        return self\n",
    "    \n",
    "    def transform(self, X, y=None, **fit_params):\n",
    "        result = [ViTokenizer.tokenize(text.lower()) for text in X]\n",
    "        return [\" \".join([token for token in text.split() if token not in self.stopwords]) for text in result]"
   ]
  },
  {
   "cell_type": "code",
   "execution_count": 5,
   "metadata": {},
   "outputs": [],
   "source": [
    "LogReg_pipeline = Pipeline([\n",
    "    ('transformer', FeatureTransformer()),\n",
    "#     (\"vect\", TfidfVectorizer(ngram_range=(1,2), use_idf=0)),\n",
    "    (\"vect\", CountVectorizer()),\n",
    "#     ('clf', OneVsRestClassifier(LogisticRegression(C=10000))),\n",
    "    ('clf', OneVsRestClassifier(SVC(C=100))),\n",
    "])"
   ]
  },
  {
   "cell_type": "markdown",
   "metadata": {},
   "source": [
    "### Multilabel encoding"
   ]
  },
  {
   "cell_type": "code",
   "execution_count": 6,
   "metadata": {},
   "outputs": [],
   "source": [
    "lb = MultiLabelBinarizer(classes=tuple(categories))\n",
    "y_train = lb.fit_transform(y_train)\n",
    "y_test = lb.fit_transform(y_test)"
   ]
  },
  {
   "cell_type": "code",
   "execution_count": 7,
   "metadata": {},
   "outputs": [],
   "source": [
    "# Train model\n",
    "clf = LogReg_pipeline.fit(X_train, y_train)"
   ]
  },
  {
   "cell_type": "markdown",
   "metadata": {},
   "source": [
    "### Predict and summary"
   ]
  },
  {
   "cell_type": "code",
   "execution_count": 8,
   "metadata": {},
   "outputs": [
    {
     "name": "stdout",
     "output_type": "stream",
     "text": [
      "[('schema:isMemberOf[schema:sportNumber]@football_player',)]\n"
     ]
    }
   ],
   "source": [
    "def predict_from_text(text):\n",
    "    return lb.inverse_transform(LogReg_pipeline.predict(text))\n",
    "\n",
    "print(predict_from_text([\"sysfootballplayer mang áo số mấy tại sysfootballclub\"]))"
   ]
  },
  {
   "cell_type": "code",
   "execution_count": 9,
   "metadata": {},
   "outputs": [
    {
     "name": "stdout",
     "output_type": "stream",
     "text": [
      "Accuracy score: 1.0\n"
     ]
    }
   ],
   "source": [
    "prediction = LogReg_pipeline.predict(X_test)\n",
    "print(\"Accuracy score:\", accuracy_score(prediction, y_test))"
   ]
  },
  {
   "cell_type": "code",
   "execution_count": 10,
   "metadata": {},
   "outputs": [
    {
     "name": "stdout",
     "output_type": "stream",
     "text": [
      "---> Case 0th: \n",
      "Text: sysfootballplayer giữ vị trí gì\n",
      "True\n",
      "Predicted:  [('schema:hasPlayerProfile[schema:hasPosition]@football_player',)]\n",
      "--------------\n",
      "---> Case 1th: \n",
      "Text: sysfootballplayer đang đá vị trí nào\n",
      "True\n",
      "Predicted:  [('schema:hasPlayerProfile[schema:hasPosition]@football_player',)]\n",
      "--------------\n",
      "---> Case 2th: \n",
      "Text: sysfootballplayer đang thi đấu cho vị trí gì\n",
      "True\n",
      "Predicted:  [('schema:hasPlayerProfile[schema:hasPosition]@football_player',)]\n",
      "--------------\n",
      "---> Case 3th: \n",
      "Text: sysfootballplayer chơi ở đội bóng đá nào\n",
      "True\n",
      "Predicted:  [('schema:isMemberOf[schema:isInClub]@football_player',)]\n",
      "--------------\n",
      "---> Case 4th: \n",
      "Text: sysfootballplayer thi đấu cho câu lạc bộ bóng đá nào\n",
      "True\n",
      "Predicted:  [('schema:isMemberOf[schema:isInClub]@football_player',)]\n",
      "--------------\n",
      "---> Case 5th: \n",
      "Text: sysfootballplayer có bao nhiêu devfootballplayerhonour\n",
      "True\n",
      "Predicted:  [('schema:hasHonour[schema:honourTitle]@football_player',)]\n",
      "--------------\n",
      "---> Case 6th: \n",
      "Text: sysfootballplayer đá ở nước nào\n",
      "True\n",
      "Predicted:  [('schema:hasPlayerProfile[schema:hasNationality]@football_player',)]\n",
      "--------------\n",
      "---> Case 7th: \n",
      "Text: nước nào sysfootballplayer đang thi đấu cho\n",
      "True\n",
      "Predicted:  [('schema:hasPlayerProfile[schema:hasNationality]@football_player',)]\n",
      "--------------\n",
      "---> Case 8th: \n",
      "Text: sysfootballplayer chơi cho nước nào\n",
      "True\n",
      "Predicted:  [('schema:hasPlayerProfile[schema:hasNationality]@football_player',)]\n",
      "--------------\n",
      "---> Case 9th: \n",
      "Text: đội sysfootballclub có cầu thủ nào áo số sysnumber\n",
      "True\n",
      "Predicted:  [('schema:hasMember[schema:sportNumber]@football_club',)]\n",
      "--------------\n",
      "---> Case 10th: \n",
      "Text: ai giữ áo số sysnumber tại sysfootballclub\n",
      "True\n",
      "Predicted:  [('schema:hasMember[schema:sportNumber]@football_club',)]\n",
      "--------------\n",
      "---> Case 11th: \n",
      "Text: số áo sysnumber của sysfootballclub\n",
      "True\n",
      "Predicted:  [('schema:hasMember[schema:sportNumber]@football_club',)]\n",
      "--------------\n",
      "---> Case 12th: \n",
      "Text: bảng xếp hạng sysfootballleague\n",
      "True\n",
      "Predicted:  [('schema:hasClub[schema:atPlace]@football_league',)]\n",
      "--------------\n",
      "---> Case 13th: \n",
      "Text: đội nào đương kim vô địch sysfootballleague\n",
      "True\n",
      "Predicted:  [('schema:currentChampion@football_league',)]\n",
      "--------------\n",
      "---> Case 14th: \n",
      "Text: lịch của giải sysfootballleague thế nào\n",
      "True\n",
      "Predicted:  [('schema:hasMatch[schema:vsPointInTime]@football_league',)]\n",
      "--------------\n",
      "---> Case 15th: \n",
      "Text: cầu thủ giá trị chuyển nhượng sysage\n",
      "True\n",
      "Predicted:  [('schema:hasMarketValue[schema:hasCurrentValue]@football_player', 'schema:hasAge@football_player')]\n",
      "--------------\n",
      "---> Case 16th: \n",
      "Text: cầu thủ sysage có giá trị chuyển nhượng\n",
      "True\n",
      "Predicted:  [('schema:hasMarketValue[schema:hasCurrentValue]@football_player', 'schema:hasAge@football_player')]\n",
      "--------------\n",
      "---> Case 17th: \n",
      "Text: cầu thủ sysage giá trị\n",
      "True\n",
      "Predicted:  [('schema:hasMarketValue[schema:hasCurrentValue]@football_player', 'schema:hasAge@football_player')]\n",
      "--------------\n",
      "---> Case 18th: \n",
      "Text: cầu thủ sysage giá trị chuyển nhượng cao nhất\n",
      "True\n",
      "Predicted:  [('schema:hasMarketValue[schema:hasCurrentValue]@football_player', 'schema:hasAge@football_player')]\n",
      "--------------\n",
      "---> Case 19th: \n",
      "Text: cầu thủ sysage trị giá cao nhất\n",
      "True\n",
      "Predicted:  [('schema:hasMarketValue[schema:hasCurrentValue]@football_player', 'schema:hasAge@football_player')]\n",
      "--------------\n",
      "---> Case 20th: \n",
      "Text: cầu thủ sysage có giá cao nhất\n",
      "True\n",
      "Predicted:  [('schema:hasMarketValue[schema:hasCurrentValue]@football_player', 'schema:hasAge@football_player')]\n",
      "--------------\n",
      "---> Case 21th: \n",
      "Text: cầu thủ sysage có giá bao nhiêu\n",
      "True\n",
      "Predicted:  [('schema:hasMarketValue[schema:hasCurrentValue]@football_player', 'schema:hasAge@football_player')]\n",
      "--------------\n",
      "---> Case 22th: \n",
      "Text: cầu thủ sysage có giá tiền\n",
      "True\n",
      "Predicted:  [('schema:hasMarketValue[schema:hasCurrentValue]@football_player', 'schema:hasAge@football_player')]\n",
      "--------------\n",
      "---> Case 23th: \n",
      "Text: giá tiền cầu thủ sysage\n",
      "True\n",
      "Predicted:  [('schema:hasMarketValue[schema:hasCurrentValue]@football_player', 'schema:hasAge@football_player')]\n",
      "--------------\n",
      "---> Case 24th: \n",
      "Text: cầu thủ có sysage đắt giá nhất\n",
      "True\n",
      "Predicted:  [('schema:hasMarketValue[schema:hasCurrentValue]@football_player', 'schema:hasAge@football_player')]\n",
      "--------------\n",
      "---> Case 25th: \n",
      "Text: giá trị cầu thủ có sysage\n",
      "True\n",
      "Predicted:  [('schema:hasMarketValue[schema:hasCurrentValue]@football_player', 'schema:hasAge@football_player')]\n",
      "--------------\n",
      "---> Case 26th: \n",
      "Text: cầu thủ ghi bàn đá cho đội tuyển\n",
      "True\n",
      "Predicted:  [('schema:hasPlayerProfile[schema:hasNationality]@football_player', 'schema:hasTotalGoals[schema:hasGoals]@football_player')]\n",
      "--------------\n",
      "---> Case 27th: \n",
      "Text: cầu thủ đá cho quốc gia ghi bàn\n",
      "True\n",
      "Predicted:  [('schema:hasPlayerProfile[schema:hasNationality]@football_player', 'schema:hasTotalGoals[schema:hasGoals]@football_player')]\n",
      "--------------\n",
      "---> Case 28th: \n",
      "Text: cầu thủ có số bàn thắng đá cho nước\n",
      "True\n",
      "Predicted:  [('schema:hasPlayerProfile[schema:hasNationality]@football_player', 'schema:hasTotalGoals[schema:hasGoals]@football_player')]\n",
      "--------------\n",
      "---> Case 29th: \n",
      "Text: sysfootballplayer đá cho nước có số lần chọc thủng lưới\n",
      "True\n",
      "Predicted:  [('schema:hasPlayerProfile[schema:hasNationality]@football_player', 'schema:hasTotalGoals[schema:hasGoals]@football_player')]\n",
      "--------------\n",
      "---> Case 30th: \n",
      "Text: cầu thủ sút vào đang đá cho quốc gia\n",
      "True\n",
      "Predicted:  [('schema:hasPlayerProfile[schema:hasNationality]@football_player', 'schema:hasTotalGoals[schema:hasGoals]@football_player')]\n",
      "--------------\n",
      "---> Case 31th: \n",
      "Text: sysfootballplayer đá cho quốc gia syscountry có số bàn\n",
      "True\n",
      "Predicted:  [('schema:hasPlayerProfile[schema:hasNationality]@football_player', 'schema:hasTotalGoals[schema:hasGoals]@football_player')]\n",
      "--------------\n",
      "---> Case 32th: \n",
      "Text: sysfootballplayer sinh ra vào thời điểm nào\n",
      "True\n",
      "Predicted:  [('schema:hasPlayerProfile[schema:hasDOB]@football_player',)]\n",
      "--------------\n",
      "---> Case 33th: \n",
      "Text: cầu thủ chơi ở vị trí devfootballmainpostion tại sysfootballclub\n",
      "True\n",
      "Predicted:  [('schema:hasPlayer[schema:playAtPosition]@football_club',)]\n",
      "--------------\n",
      "---> Case 34th: \n",
      "Text: cầu thủ sinh vào sysdate và chơi ở vị trí devfootballpostion\n",
      "True\n",
      "Predicted:  [('schema:hasPlayerProfile[schema:hasDOB]@football_player', 'schema:hasPlayerProfile[schema:hasPosition]@football_player')]\n",
      "--------------\n",
      "---> Case 35th: \n",
      "Text: sự góp mặt của sysfootballplayer trên sân đấu mấy lần\n",
      "True\n",
      "Predicted:  [('schema:hasTotalStats[schema:hasAppearances]@football_player',)]\n",
      "--------------\n",
      "---> Case 36th: \n",
      "Text: số lần cản phá bóng của sysfootballplayer là bao nhiêu\n",
      "True\n",
      "Predicted:  [('schema:hasTotalStats[schema:hasGoalConceded]@football_player',)]\n",
      "--------------\n",
      "---> Case 37th: \n",
      "Text: hiệu suất ghi bàn trên một phút của sysfootballplayer\n",
      "True\n",
      "Predicted:  [('schema:hasTotalStats[schema:hasMinPerGoal]@football_player',)]\n",
      "--------------\n",
      "---> Case 38th: \n",
      "Text: sysfootballplayer đã ra sân thi đấu bao nhiêu phút\n",
      "True\n",
      "Predicted:  [('schema:hasTotalStats[schema:hasMinPlayed]@football_player',)]\n",
      "--------------\n",
      "---> Case 39th: \n",
      "Text: sysfootballplayer làm phản bao nhiêu quả vào lưới nhà\n",
      "True\n",
      "Predicted:  [('schema:hasTotalStats[schema:hasOwnGoals]@football_player',)]\n",
      "--------------\n",
      "---> Case 40th: \n",
      "Text: số lần kiến tạo của sysfootballplayer\n",
      "True\n",
      "Predicted:  [('schema:hasTotalStats[schema:hasAssists]@football_player',)]\n",
      "--------------\n",
      "---> Case 41th: \n",
      "Text: số bàn thắng từ lần phạt đền của sysfootballplayer\n",
      "True\n",
      "Predicted:  [('schema:hasTotalStats[schema:hasPenGoals]@football_player',)]\n",
      "--------------\n",
      "---> Case 42th: \n",
      "Text: sysfootballplayer bị cảnh cáo thi đấu mấy lần\n",
      "True\n",
      "Predicted:  [('schema:hasTotalStats[schema:hasYellowCards]@football_player',)]\n",
      "--------------\n",
      "---> Case 43th: \n",
      "Text: sysfootballplayer bị truất quyền thi đấu bao nhiêu lần\n",
      "True\n",
      "Predicted:  [('schema:hasTotalStats[schema:hasRedCards]@football_player',)]\n",
      "--------------\n"
     ]
    }
   ],
   "source": [
    "def compare2list(pre, org):\n",
    "    for x, y in zip(pre,org):\n",
    "        if x != y:\n",
    "            return False\n",
    "    return True\n",
    "i = 0\n",
    "for pre, org in zip(prediction, y_test):\n",
    "    print(\"---> Case %dth: \" % (i))\n",
    "    print(\"Text:\", X_test[i])\n",
    "    if compare2list(pre, org):\n",
    "        print(True)\n",
    "        print(\"Predicted: \", lb.inverse_transform(np.array([pre])))\n",
    "        \n",
    "    else:\n",
    "        print(False)\n",
    "        print(\"Predicted: \", lb.inverse_transform(np.array([pre])))\n",
    "        print(\"Real: \", lb.inverse_transform(np.array([org])))\n",
    "    print(\"--------------\")    \n",
    "    i += 1"
   ]
  },
  {
   "cell_type": "markdown",
   "metadata": {},
   "source": [
    "### Save model"
   ]
  },
  {
   "cell_type": "code",
   "execution_count": 24,
   "metadata": {},
   "outputs": [
    {
     "data": {
      "text/plain": [
       "['models/football_labelencoding.pkl']"
      ]
     },
     "execution_count": 24,
     "metadata": {},
     "output_type": "execute_result"
    }
   ],
   "source": [
    "joblib.dump(LogReg_pipeline, \"models/football_multilabel.pkl\", compress= 1)\n",
    "joblib.dump(lb, \"models/football_labelencoding.pkl\")"
   ]
  },
  {
   "cell_type": "code",
   "execution_count": null,
   "metadata": {},
   "outputs": [],
   "source": []
  }
 ],
 "metadata": {
  "kernelspec": {
   "display_name": "Python 3",
   "language": "python",
   "name": "python3"
  },
  "language_info": {
   "codemirror_mode": {
    "name": "ipython",
    "version": 3
   },
   "file_extension": ".py",
   "mimetype": "text/x-python",
   "name": "python",
   "nbconvert_exporter": "python",
   "pygments_lexer": "ipython3",
   "version": "3.6.8"
  }
 },
 "nbformat": 4,
 "nbformat_minor": 2
}
